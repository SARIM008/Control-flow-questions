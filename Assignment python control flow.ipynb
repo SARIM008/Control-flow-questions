{
 "cells": [
  {
   "cell_type": "markdown",
   "id": "afd78d8b",
   "metadata": {},
   "source": [
    "# Basic if else statements"
   ]
  },
  {
   "cell_type": "code",
   "execution_count": 3,
   "id": "1a9b267d",
   "metadata": {},
   "outputs": [
    {
     "name": "stdout",
     "output_type": "stream",
     "text": [
      "5\n",
      "the number 5 is positive \n"
     ]
    }
   ],
   "source": [
    "#Question 1\n",
    "#1. Write a Python program to check if a given number is positive or negative\n",
    "x=int(input())\n",
    "if x>0:\n",
    "    print(f\"the number {x} is positive \")\n",
    "else:\n",
    "    print(f\"the number {x} is negative \")"
   ]
  },
  {
   "cell_type": "code",
   "execution_count": 6,
   "id": "6c7681e7",
   "metadata": {},
   "outputs": [
    {
     "name": "stdout",
     "output_type": "stream",
     "text": [
      "enter your age  5\n",
      "you are not eligible to vote \n"
     ]
    }
   ],
   "source": [
    "#Question2\n",
    "#Create a program that determines if a person is eligible to vote based on their age\n",
    "x=int(input(\"enter your age  \"))\n",
    "if x>=18:\n",
    "    print(f\"you are eligible to vote \")\n",
    "else:\n",
    "    print(f\"you are not eligible to vote \")"
   ]
  },
  {
   "cell_type": "code",
   "execution_count": 10,
   "id": "d83965a6",
   "metadata": {},
   "outputs": [
    {
     "name": "stdout",
     "output_type": "stream",
     "text": [
      "Enter the  first number  45\n",
      "Enter the second number  22\n",
      "45 is maximum\n"
     ]
    }
   ],
   "source": [
    "#Question 3\n",
    "#Develop a program to find the maximum of two numbers using if-else statements.\n",
    "a=int(input(\"Enter the  first number  \"))\n",
    "b=int(input(\"Enter the second number  \"))\n",
    "if a>b:\n",
    "    print(f\"{a} is maximum\")\n",
    "else:\n",
    "    print(f\"{b} is maximum\")"
   ]
  },
  {
   "cell_type": "code",
   "execution_count": 14,
   "id": "5ae6a545",
   "metadata": {},
   "outputs": [
    {
     "name": "stdout",
     "output_type": "stream",
     "text": [
      "enter the year  2016\n",
      "2016  it is a leap year\n"
     ]
    }
   ],
   "source": [
    "#Question 4\n",
    "#Write a Python script to classify a given year as a leap year or not.\n",
    "a1=int(input(\"enter the year  \"))\n",
    "if a1%4==0:\n",
    "    print(f\"{a1}  it is a leap year\")\n",
    "else:\n",
    "    print(f\"{a1}  it is not a leap year\")"
   ]
  },
  {
   "cell_type": "code",
   "execution_count": 19,
   "id": "387c99ef",
   "metadata": {},
   "outputs": [
    {
     "name": "stdout",
     "output_type": "stream",
     "text": [
      "enter the character   c\n",
      "is is consonant\n"
     ]
    }
   ],
   "source": [
    "#Question 5\n",
    "#Create a program that checks whether a character is a vowel or a consonant.\n",
    "s=input(\"enter the character   \")\n",
    "j= [\"a\",\"e\",\"i\",\"o\",\"u\",\"A\",\"E\",\"I\",\"O\",\"U\"]\n",
    "if s in j:\n",
    "    print(\"it is a vowel\")\n",
    "else:\n",
    "    print(\"it is a consonant\")"
   ]
  },
  {
   "cell_type": "code",
   "execution_count": 20,
   "id": "e37aa507",
   "metadata": {},
   "outputs": [
    {
     "name": "stdout",
     "output_type": "stream",
     "text": [
      "enter the number to check5\n",
      "5 it is odd\n"
     ]
    }
   ],
   "source": [
    "#Question 6\n",
    "#. Implement a program to determine whether a given number is even or odd.\n",
    "a2=int(input(\"enter the number to check \"))\n",
    "if a2%2==0:\n",
    "    print(f\"{a2} it is even\")\n",
    "else:\n",
    "    print(f\"{a2} it is odd\")"
   ]
  },
  {
   "cell_type": "code",
   "execution_count": 27,
   "id": "78391def",
   "metadata": {},
   "outputs": [
    {
     "name": "stdout",
     "output_type": "stream",
     "text": [
      "-88\n",
      "88\n"
     ]
    }
   ],
   "source": [
    "#Question 7\n",
    "#Write a Python function to calculate the absolute value of a number without using the `abs()` function\n",
    "x2=str(input(\"\"))\n",
    "x3=int(x2)\n",
    "cc=len(x2)\n",
    "if x3<0:\n",
    "    print(x2[1:cc+1])\n",
    "else:\n",
    "    print(x3)"
   ]
  },
  {
   "cell_type": "code",
   "execution_count": 28,
   "id": "cee7ebac",
   "metadata": {},
   "outputs": [
    {
     "name": "stdout",
     "output_type": "stream",
     "text": [
      "enter the first number45\n",
      "enter the second number85\n",
      "enter the third number96\n",
      "96 is the largest\n"
     ]
    }
   ],
   "source": [
    "#Question 8\n",
    "#Develop a program that determines the largest of three given numbers using if-else statements.\n",
    "n1=int(input(\"enter the first number \"))\n",
    "n2=int(input(\"enter the second number \"))\n",
    "n3=int(input(\"enter the third number \"))\n",
    "if n1>n2 and n1>n3:\n",
    "    print(f\"{n1} is the largest\")\n",
    "if n2>n1 and n2>n3:\n",
    "    print(f\"{n2} is the largest\")\n",
    "else:\n",
    "    print(f\"{n3} is the largest\")"
   ]
  },
  {
   "cell_type": "code",
   "execution_count": 33,
   "id": "d15a5538",
   "metadata": {},
   "outputs": [
    {
     "name": "stdout",
     "output_type": "stream",
     "text": [
      "enter the string    nitin\n",
      "nitin is  palindrome\n"
     ]
    }
   ],
   "source": [
    "#Question 9\n",
    "#Create a program that checks if a given string is a palindrome\n",
    "x=input(\"enter the string    \")\n",
    "c=x[len(x)::-1]\n",
    "if x==c:\n",
    "    print(f\"{x} is  palindrome\")\n",
    "else:\n",
    "    print(f\"{x} is not palindrome\")"
   ]
  },
  {
   "cell_type": "code",
   "execution_count": 38,
   "id": "69d4b9d5",
   "metadata": {},
   "outputs": [
    {
     "name": "stdout",
     "output_type": "stream",
     "text": [
      "enter the your score 20\n",
      "U grade\n"
     ]
    }
   ],
   "source": [
    "#Question 10\n",
    "#Write a Python program to calculate the grade based on a student's score\n",
    "x6=int(input(\"enter the your score \"))\n",
    "if x6>=90:\n",
    "    print(\"S grade\")\n",
    "if 90>x6>=80:\n",
    "    print(\"A grade\")\n",
    "if 80>x6>=70:\n",
    "    print(\"B grade\")\n",
    "if 70>x6>=60:\n",
    "    print(\"C grade\")\n",
    "if 60>x6>=50:\n",
    "    print(\"D grade\")\n",
    "if 50>x6>=40:\n",
    "    print(\"E grade\")\n",
    "if 0<=x6<40:\n",
    "    print(\"U grade\")"
   ]
  },
  {
   "cell_type": "markdown",
   "id": "4e0d4960",
   "metadata": {},
   "source": [
    "# Nested if-else statements"
   ]
  },
  {
   "cell_type": "code",
   "execution_count": 39,
   "id": "2319b999",
   "metadata": {},
   "outputs": [
    {
     "name": "stdout",
     "output_type": "stream",
     "text": [
      "enter the first number 45\n",
      "enter the second number 70\n",
      "enter the third number 91\n",
      "91 is the largest\n"
     ]
    }
   ],
   "source": [
    "\n",
    "#11. Write a program to find the largest among three numbers using nested if-else statements.\n",
    "k1=int(input(\"enter the first number \"))\n",
    "k2=int(input(\"enter the second number \"))\n",
    "k3=int(input(\"enter the third number \"))\n",
    "if k1>k2 and k1>k3:\n",
    "    print(f\"{k1} is the largest\")\n",
    "elif k2>k1 and k2>k3:\n",
    "    print(f\"{k2} is the largest\")\n",
    "else:\n",
    "    print(f\"{k3} is the largest\")\n"
   ]
  },
  {
   "cell_type": "code",
   "execution_count": 42,
   "id": "6aafbbad",
   "metadata": {},
   "outputs": [
    {
     "name": "stdout",
     "output_type": "stream",
     "text": [
      "enter the first side 85\n",
      "enter the second side 74\n",
      "enter the third side 56\n",
      "it is a scalene triangle\n"
     ]
    }
   ],
   "source": [
    "#12. Implement a program to determine if a triangle is equilateral, isosceles, or scalene.\n",
    "t1=int(input(\"enter the first side \"))\n",
    "t2=int(input(\"enter the second side \"))\n",
    "t3=int(input(\"enter the third side \"))\n",
    "if t1==t2 and t1==t3:\n",
    "    print(\"it is an equilateral triangle\")\n",
    "elif (t1==t2 or t2==t3) and (t1!=t3 or t2!=t3):\n",
    "    print(\"it is  an isoceles triangle\")\n",
    "elif t1!=t2 and t2!=t3:\n",
    "    print(\"it is a scalene triangle\")\n"
   ]
  },
  {
   "cell_type": "code",
   "execution_count": 45,
   "id": "6f9397f7",
   "metadata": {},
   "outputs": [
    {
     "name": "stdout",
     "output_type": "stream",
     "text": [
      "enter the year2016\n",
      "not a leap and century year\n"
     ]
    }
   ],
   "source": [
    "#13. Develop a program that checks if a year is a leap year and also if it is a century year.\n",
    "a=int(input(\"enter the year\"))\n",
    "if a%4==0 and a%100==0:\n",
    "      print(\"it is a leap and century year\")\n",
    "else:\n",
    "      print(\"not a leap and century year\")"
   ]
  },
  {
   "cell_type": "code",
   "execution_count": 47,
   "id": "32579d38",
   "metadata": {},
   "outputs": [
    {
     "name": "stdout",
     "output_type": "stream",
     "text": [
      "0\n",
      "It is zero\n"
     ]
    }
   ],
   "source": [
    "#14 Write a Python script to determine if a number is positive, negative, or zero\n",
    "v=int(input(\"\"))\n",
    "if  v>0:\n",
    "    print(\"It is positive\")\n",
    "elif v<0:\n",
    "    print(\"It is negative\")\n",
    "elif v==0:\n",
    "    print(\"The number is zero\")"
   ]
  },
  {
   "cell_type": "code",
   "execution_count": 50,
   "id": "83de94ad",
   "metadata": {},
   "outputs": [
    {
     "name": "stdout",
     "output_type": "stream",
     "text": [
      "Enter the your age 14\n",
      "Be polite You are a teenager\n"
     ]
    }
   ],
   "source": [
    "#15 Create a program to check if a person is a teenager (between 13 and 19 years old).\n",
    "x4=int(input(\"Enter the your age \"))\n",
    "if 13<=x4<=19:\n",
    "    print(\"Be polite You are a teenager\")\n",
    "else:\n",
    "    print(\"Be responsible You are not a teenager\")"
   ]
  },
  {
   "cell_type": "code",
   "execution_count": 51,
   "id": "701d7049",
   "metadata": {},
   "outputs": [
    {
     "name": "stdout",
     "output_type": "stream",
     "text": [
      "Enter the angle145\n",
      "it is obtuse angle\n"
     ]
    }
   ],
   "source": [
    "#16. Develop a program that determines the type of angle based on its measure (acute, obtuse, or right).\n",
    "a2=int(input(\"Enter the angle\"))\n",
    "if 0<=a2<90:\n",
    "    print(\"it is acute angle\")\n",
    "elif 90<=a2<180:\n",
    "    print(\"it is obtuse angle\")\n",
    "elif a2==90:\n",
    "    print(\"it is right angle\")"
   ]
  },
  {
   "cell_type": "code",
   "execution_count": 57,
   "id": "5b61957d",
   "metadata": {},
   "outputs": [
    {
     "name": "stdout",
     "output_type": "stream",
     "text": [
      "Enter the coefficient of x2 2\n",
      "Enter the coefficient of x 5\n",
      "ENter the coefficient of constant -4\n",
      "the first root of the equation is 0.6374586088176875\n",
      "the first root of the equation is -3.1374586088176875\n"
     ]
    }
   ],
   "source": [
    "#17. Write a Python program to calculate the roots of a quadratic equation.\n",
    "a=int(input(\"Enter the coefficient of x2 \"))\n",
    "b=int(input(\"Enter the coefficient of x \"))\n",
    "c=int(input(\"ENter the coefficient of constant \"))\n",
    "d=((b**2)-(4*a*c))**0.5\n",
    "r1=(-b+d)/(2*a)\n",
    "r2=(-b-d)/(2*a)\n",
    "print(f\"the first root of the equation is {r1}\")\n",
    "print(f\"the first root of the equation is {r2}\")"
   ]
  },
  {
   "cell_type": "code",
   "execution_count": 61,
   "id": "51f73020",
   "metadata": {},
   "outputs": [
    {
     "name": "stdout",
     "output_type": "stream",
     "text": [
      "Enter number of day5\n",
      "Friday\n"
     ]
    }
   ],
   "source": [
    "#. Implement a program to determine the day of the week based on a user-provided number (1 for Monday, 2 \n",
    "#for Tuesday, etc.).\n",
    "d=int(input(\"Enter number of day\"))\n",
    "if d==1:\n",
    "    print(\"Monday\")\n",
    "elif d==2:\n",
    "    print(\"Tuesday\")\n",
    "elif d==3:\n",
    "    print(\"Wednesday\")\n",
    "elif d==4:\n",
    "    print(\"Thursday\")\n",
    "elif d==5:\n",
    "    print(\"Friday\")\n",
    "elif d==6:\n",
    "    print(\"Saturday\")\n",
    "elif d==7:\n",
    "    print(\"Sunday\")"
   ]
  },
  {
   "cell_type": "code",
   "execution_count": 63,
   "id": "cdf4c6d7",
   "metadata": {},
   "outputs": [
    {
     "name": "stdout",
     "output_type": "stream",
     "text": [
      "enter the year2000\n",
      "it is a leap year and evenly divisible\n"
     ]
    }
   ],
   "source": [
    "#19. Create a program that determines if a year is a leap year and also if it is evenly divisible by 400.\n",
    "a=int(input(\"enter the year\"))\n",
    "if a%4==0 and a%400==0:\n",
    "      print(\"it is a leap year and evenly divisible\")\n",
    "else:\n",
    "      print(\"not a leap evenly divisible\")"
   ]
  },
  {
   "cell_type": "code",
   "execution_count": 65,
   "id": "bd88e7c0",
   "metadata": {},
   "outputs": [
    {
     "name": "stdout",
     "output_type": "stream",
     "text": [
      "Enter a number  37\n",
      "37 is a prime number\n"
     ]
    }
   ],
   "source": [
    "#20. Develop a program that checks if a given number is prime or not using nested if-else statements.\n",
    "num = int(input(\"Enter a number  \"))\n",
    "flag = False\n",
    "\n",
    "if num == 1:\n",
    "    print(num, \"is not a prime number\")\n",
    "elif num > 1:\n",
    "    \n",
    "    for i in range(2, num):\n",
    "        if (num % i) == 0:\n",
    "            \n",
    "            flag = True\n",
    "            \n",
    "            break\n",
    "\n",
    "        if flag:\n",
    "            print(num, \"is not a prime number\")\n",
    "    else:\n",
    "        \n",
    "        print(num, \"is a prime number\")"
   ]
  },
  {
   "cell_type": "markdown",
   "id": "23b1cac3",
   "metadata": {},
   "source": [
    "# Challenge Questions\n"
   ]
  },
  {
   "cell_type": "code",
   "execution_count": 77,
   "id": "e055b466",
   "metadata": {},
   "outputs": [
    {
     "name": "stdout",
     "output_type": "stream",
     "text": [
      "enter a password to checkSarim@008\n",
      "Valid PAssword\n"
     ]
    }
   ],
   "source": [
    "#31. Create a program that validates a password based on complexity rules (length, characters, etc.).\n",
    "pw=input(\"enter a password to check  \")\n",
    "a=len(pw)\n",
    "l1=False\n",
    "special=\"@,#,$,%,&,!\"\n",
    "l1=False\n",
    "uppercase=False\n",
    "lowercase=False\n",
    "digit=False\n",
    "sp=False\n",
    "if a>8 and a<20:\n",
    "    l1=True\n",
    "for char in pw:\n",
    "    if 'A'<= char <='Z':\n",
    "        uppercase=True\n",
    "    elif 'a'<= char <='z':\n",
    "        lowercase=True\n",
    "    elif '0'<= char <= '9':\n",
    "        digit=True\n",
    "    elif char in special:\n",
    "        sp=True\n",
    "if l1 and uppercase and lowercase and digit and sp:\n",
    "    print(\"Valid PAssword\")\n",
    "else:\n",
    "    print(\"invalid password\")\n",
    "\n",
    "    "
   ]
  },
  {
   "cell_type": "code",
   "execution_count": 7,
   "id": "eeaae3ce",
   "metadata": {},
   "outputs": [
    {
     "name": "stdout",
     "output_type": "stream",
     "text": [
      "Both matrix should be of the same dimension\n",
      "enter the number of rows 1st matrix  2\n",
      "enter the number of coloumns 1st matrix   2\n",
      "enter the number of rows OF 2nd matrix  2\n",
      "enter the number of coloumns 2nd matrix   2\n",
      "enter the value of 1st matrix  12\n",
      "enter the value of 1st matrix  14\n",
      "enter the value of 1st matrix  15\n",
      "enter the value of 1st matrix  18\n",
      "enter the value of 2nd matrix  2\n",
      "enter the value of 2nd matrix  3\n",
      "enter the value of 2nd matrix  1\n",
      "enter the value of 2nd matrix  2\n",
      "First matrix is\n",
      "12 14 \n",
      "15 18 \n",
      "Second matrix is\n",
      "2 3 \n",
      "1 2 \n",
      "the sum of the matrix is\n",
      "14 17 \n",
      "16 20 \n",
      "the subtraction of the matrix is\n",
      "10 11 \n",
      "14 16 \n"
     ]
    }
   ],
   "source": [
    "#Develop a program that performs matrix addition and subtraction based on user input.\n",
    "print(\"Both matrix should be of the same dimension\")\n",
    "a=int(input(\"enter the number of rows 1st matrix  \"))\n",
    "b=int(input(\"enter the number of coloumns 1st matrix   \"))\n",
    "c=int(input(\"enter the number of rows OF 2nd matrix  \"))\n",
    "d=int(input(\"enter the number of coloumns 2nd matrix   \"))\n",
    "m1=[]\n",
    "m2=[]\n",
    "for i in range(a):\n",
    "    s=[]\n",
    "    for j in range(b):\n",
    "        s.append(int(input(\"enter the value of 1st matrix  \")))\n",
    "    m1.append(s)\n",
    "for i in range(c):\n",
    "    k=[]\n",
    "    for j in range(d):\n",
    "        k.append(int(input(\"enter the value of 2nd matrix  \")))\n",
    "    m2.append(k)\n",
    "print(\"First matrix is\")\n",
    "for i in range(a):\n",
    "    for j in range(b):\n",
    "        print(m1[i][j],end=' ')\n",
    "    print()\n",
    "print(\"Second matrix is\")\n",
    "for i in range(c):\n",
    "    for j in range(d):\n",
    "        print(m2[i][j],end=' ')\n",
    "    print()\n",
    "m3=[]\n",
    "for i in range(a):\n",
    "    f=[]\n",
    "    for j in range(b):\n",
    "        f.append(int(0))\n",
    "    m3.append(f)\n",
    "for i in range(a):\n",
    "    for j in range(b):\n",
    "                 m3[i][j]=m1[i][j]+m2[i][j]\n",
    "print(\"the sum of the matrix is\")\n",
    "for i in range(a):\n",
    "    for j in range(b):\n",
    "        print(m3[i][j],end=' ')\n",
    "    print()\n",
    "m4=[]\n",
    "for i in range(a):\n",
    "    p=[]\n",
    "    for j in range(b):\n",
    "        p.append(int(0))\n",
    "    m4.append(p)\n",
    "for i in range(a):\n",
    "    for j in range(b):\n",
    "                 m4[i][j]=m1[i][j]-m2[i][j]\n",
    "print(\"the subtraction of the matrix is\")\n",
    "for i in range(a):\n",
    "    for j in range(b):\n",
    "        print(m4[i][j],end=' ')\n",
    "    print()\n",
    "\n",
    "                \n",
    "        \n",
    "    \n",
    "                 \n"
   ]
  },
  {
   "cell_type": "code",
   "execution_count": 9,
   "id": "852bccd2",
   "metadata": {},
   "outputs": [
    {
     "name": "stdout",
     "output_type": "stream",
     "text": [
      "Enter the first number   24\n",
      "Enter the second number  36\n",
      "GCD is 12\n"
     ]
    }
   ],
   "source": [
    "a=int(input(\"Enter the first number   \"))\n",
    "b=int(input(\"Enter the second number  \"))\n",
    "if a==b:\n",
    "    print(f\"GCD is {a}\")\n",
    "elif a>b:\n",
    "    while a!=0:\n",
    "        c=a-b\n",
    "        a=c\n",
    "        if a>b:\n",
    "            continue\n",
    "        else:\n",
    "            d=b-a\n",
    "            b=d\n",
    "    print(f\"GCD is {b}\")\n",
    "elif b>a:\n",
    "    while b!=0:\n",
    "        c=b-a\n",
    "        b=c\n",
    "        if b>a:\n",
    "            continue\n",
    "        else:\n",
    "            d=a-b\n",
    "            a=d\n",
    "    print(f\"GCD is {a}\")\n",
    "    \n"
   ]
  },
  {
   "cell_type": "code",
   "execution_count": 11,
   "id": "01459d59",
   "metadata": {},
   "outputs": [
    {
     "name": "stdout",
     "output_type": "stream",
     "text": [
      "Both matrix should be of the same dimension\n",
      "Enter only square matrix\n",
      "enter the number of rows for matrix  2\n",
      "enter the number of coloumns for matrix   2\n",
      "enter the value of 1st matrix  12\n",
      "enter the value of 1st matrix  12\n",
      "enter the value of 1st matrix  14\n",
      "enter the value of 1st matrix  14\n",
      "enter the value of 2nd matrix  15\n",
      "enter the value of 2nd matrix  15\n",
      "enter the value of 2nd matrix  15\n",
      "enter the value of 2nd matrix  15\n",
      "First matrix is\n",
      "12 12 \n",
      "14 14 \n",
      "Second matrix is\n",
      "15 15 \n",
      "15 15 \n",
      "the product of the matrix is\n",
      "360 360 \n",
      "420 420 \n"
     ]
    }
   ],
   "source": [
    "#Build a program that performs matrix multiplication using nested loops and conditional statements.\n",
    "print(\"Both matrix should be of the same dimension\")\n",
    "print(\"Enter only square matrix\")\n",
    "a=int(input(\"enter the number of rows for matrix  \"))\n",
    "b=int(input(\"enter the number of coloumns for matrix   \"))\n",
    "c=a\n",
    "d=b\n",
    "m1=[]\n",
    "m2=[]\n",
    "for i in range(a):\n",
    "    s=[]\n",
    "    for j in range(b):\n",
    "        s.append(int(input(\"enter the value of 1st matrix  \")))\n",
    "    m1.append(s)\n",
    "for i in range(c):\n",
    "    k=[]\n",
    "    for j in range(d):\n",
    "        k.append(int(input(\"enter the value of 2nd matrix  \")))\n",
    "    m2.append(k)\n",
    "print(\"First matrix is\")\n",
    "for i in range(a):\n",
    "    for j in range(b):\n",
    "        print(m1[i][j],end=' ')\n",
    "    print()\n",
    "print(\"Second matrix is\")\n",
    "for i in range(c):\n",
    "    for j in range(d):\n",
    "        print(m2[i][j],end=' ')\n",
    "    print()\n",
    "mult=[]\n",
    "for i in range(a):\n",
    "    p=[]\n",
    "    for j in range(b):\n",
    "        p.append(int(0))\n",
    "    mult.append(p)\n",
    "print(\"the product of the matrix is\")\n",
    "for i in range(a):\n",
    "    for j in range(b):\n",
    "        for k in range(a):\n",
    "                mult[i][j]=mult[i][j]+m1[i][k]*m2[k][j]\n",
    "for i in range(a):\n",
    "    for j in range(b):\n",
    "        print(mult[i][j],end=' ')\n",
    "    print()\n",
    "\n",
    "            \n"
   ]
  },
  {
   "cell_type": "code",
   "execution_count": 15,
   "id": "6d402831",
   "metadata": {},
   "outputs": [
    {
     "name": "stdout",
     "output_type": "stream",
     "text": [
      "enter the number to get fibonacci till this term       7\n",
      "0 1 1 2 3 5 8 13 "
     ]
    }
   ],
   "source": [
    "#Write a program that generates Fibonacci numbers up to a specified term using iterative methods\n",
    "n=int(input(\"enter the number to get fibonacci till this term       \"))\n",
    "n1=0\n",
    "n2=1\n",
    "print(\"0\",end=' ')\n",
    "for i in range(n):\n",
    "    k=n1+n2\n",
    "    print(k,end=' ')\n",
    "    n2=n1\n",
    "    n1=k"
   ]
  },
  {
   "cell_type": "code",
   "execution_count": 16,
   "id": "41a1dfe1",
   "metadata": {},
   "outputs": [
    {
     "name": "stdout",
     "output_type": "stream",
     "text": [
      "Enter the value of n: 7\n",
      "The 7-th Fibonacci number is 13\n"
     ]
    }
   ],
   "source": [
    "\n",
    "#  Develop a program that calculates the nth term of the Fibonacci sequence using memoization.\n",
    "fib_dict = {}\n",
    "\n",
    "def fibonacci(n):\n",
    "    if n in fib_dict:\n",
    "        return fib_dict[n]\n",
    "    if n <= 1:\n",
    "        result = n\n",
    "    else:\n",
    "        result = fibonacci(n - 1) + fibonacci(n - 2)\n",
    "\n",
    "    fib_dict[n] = result\n",
    "    return result\n",
    "\n",
    "n = int(input(\"Enter the value of n: \"))\n",
    "\n",
    "if n < 0:\n",
    "    print(\"Please enter a non-negative integer.\")\n",
    "else:\n",
    "    result = fibonacci(n)\n",
    "    print(f\"The {n}-th Fibonacci number is {result}\")\n"
   ]
  },
  {
   "cell_type": "code",
   "execution_count": 18,
   "id": "2a191474",
   "metadata": {},
   "outputs": [
    {
     "name": "stdout",
     "output_type": "stream",
     "text": [
      "Enter the year 2024\n",
      "Enter the month in numbers only like 01-02-11 in this way only 01\n",
      "    January 2024\n",
      "Mo Tu We Th Fr Sa Su\n",
      " 1  2  3  4  5  6  7\n",
      " 8  9 10 11 12 13 14\n",
      "15 16 17 18 19 20 21\n",
      "22 23 24 25 26 27 28\n",
      "29 30 31\n",
      "\n"
     ]
    }
   ],
   "source": [
    "import calendar\n",
    " \n",
    "yy =int(input(\"Enter the year \"))\n",
    "mm = int(input(\"Enter the month in numbers only like 01-02-11 in this way only \"))\n",
    " \n",
    "# display the calendar\n",
    "print(calendar.month(yy, mm))"
   ]
  },
  {
   "cell_type": "code",
   "execution_count": null,
   "id": "780b2436",
   "metadata": {},
   "outputs": [],
   "source": []
  },
  {
   "cell_type": "code",
   "execution_count": 4,
   "id": "d76bbb73",
   "metadata": {},
   "outputs": [
    {
     "name": "stdout",
     "output_type": "stream",
     "text": [
      "enter the number  18\n",
      "the factors of 18 are [2, 3, 6, 9, 18]\n"
     ]
    }
   ],
   "source": [
    "n=int(input(\"enter the number  \"))\n",
    "factors = []\n",
    "divisor = 2\n",
    "\n",
    "while divisor <= n:\n",
    "    if n % divisor:\n",
    "        divisor += 1\n",
    "    else:\n",
    "        n\n",
    "        factors.append(divisor)\n",
    "    divisor=divisor+1\n",
    "print(f\"the factors of {n} are {factors}\")"
   ]
  },
  {
   "cell_type": "markdown",
   "id": "77241fdc",
   "metadata": {},
   "source": [
    "# Advanced Questions"
   ]
  },
  {
   "cell_type": "code",
   "execution_count": 8,
   "id": "d7043cf2",
   "metadata": {},
   "outputs": [
    {
     "name": "stdout",
     "output_type": "stream",
     "text": [
      "Enter your income: 120000\n",
      "Income tax: is 170307.0\n"
     ]
    }
   ],
   "source": [
    "# Create a program that calculates the income tax based on the user's income and tax brackets\n",
    "# Define tax brackets and rates\n",
    "tax_brackets = [(9950, 0.1), (40525, 0.22), (86375, 0.24), (164925, 0.32), (209425, 0.35), (523600, 0.37)]\n",
    "\n",
    "\n",
    "income = float(input(\"Enter your income: \"))\n",
    "\n",
    "# Calculate income tax\n",
    "income_tax = 0\n",
    "for i in range(len(tax_brackets)):\n",
    "    if income > tax_brackets[i][0]:\n",
    "        income_tax += (tax_brackets[i][0] - tax_brackets[i-1][0]) * tax_brackets[i-1][1]\n",
    "        income -= tax_brackets[i][0]\n",
    "    else:\n",
    "        income_tax += income * tax_brackets[i][1]\n",
    "        break\n",
    "\n",
    "# Print the result\n",
    "print(\"Income tax: is\", abs(round(income_tax, 2)))"
   ]
  },
  {
   "cell_type": "code",
   "execution_count": 6,
   "id": "3bc6045f",
   "metadata": {},
   "outputs": [
    {
     "name": "stdout",
     "output_type": "stream",
     "text": [
      "To end the game enter QUIT\n",
      "Enter rock, paper, or scissors: paper\n",
      "Computer wins!\n",
      "Enter rock, paper, or scissors: rock\n",
      "You win!\n",
      "Enter rock, paper, or scissors: QUIT\n"
     ]
    }
   ],
   "source": [
    "#Write a program that simulates a rock-paper-scissors game against the computer\n",
    "import random\n",
    "\n",
    "computer_choice = random.choice(['rock', 'paper', 'scissors'])\n",
    "print(\"To end the game enter QUIT\")\n",
    "\n",
    "user_choice = input(\"Enter rock, paper, or scissors: \")\n",
    "while user_choice!=\"QUIT\":\n",
    "    \n",
    "    if user_choice == computer_choice:\n",
    "        print(\"It's a tie!\")\n",
    "    elif user_choice == 'rock':\n",
    "        if computer_choice == 'scissors':\n",
    "            print(\"You win!\")\n",
    "        else:\n",
    "            print(\"Computer wins!\")\n",
    "    elif user_choice == 'paper':\n",
    "        if computer_choice == 'rock':\n",
    "            print(\"You win!\")\n",
    "        else:\n",
    "            \n",
    "            print(\"Computer wins!\")\n",
    "    elif user_choice == 'scissors':\n",
    "        if computer_choice == 'paper':\n",
    "            print(\"You win!\")\n",
    "        else:\n",
    "            print(\"Computer wins!\")\n",
    "    else:\n",
    "        print(\"Invalid input. Please enter rock, paper, or scissors.\")\n",
    "    user_choice = input(\"Enter rock, paper, or scissors: \")\n"
   ]
  },
  {
   "cell_type": "code",
   "execution_count": 17,
   "id": "73117742",
   "metadata": {},
   "outputs": [
    {
     "name": "stdout",
     "output_type": "stream",
     "text": [
      "enter the lenght of password more than 8 only   10\n",
      "Strong Password:  xBiN3|0]\n"
     ]
    }
   ],
   "source": [
    "import string\n",
    "import random\n",
    "\n",
    "\n",
    "\n",
    "a1 = list(string.ascii_lowercase)\n",
    "a2 = list(string.ascii_uppercase)\n",
    "a3 = list(string.digits)\n",
    "a4 = list(string.punctuation)\n",
    "x= int(input(\"enter the lenght of password more than 8 only   \"))\n",
    "random.shuffle(a1)\n",
    "random.shuffle(a2)\n",
    "random.shuffle(a3)\n",
    "random.shuffle(a4)\n",
    "p1 = round(x * (0.15))\n",
    "p2 = round(x * (0.2))\n",
    "\n",
    "result = []\n",
    "\n",
    "for i in range(p1):\n",
    "    result.append(a1[i])\n",
    "    result.append(a2[i])\n",
    "\n",
    "for i in range(p2):\n",
    "    result.append(a3[i])\n",
    "    result.append(a4[i])\n",
    "r=\"\"\n",
    "password = r.join(result)\n",
    "print(\"Strong Password: \", password)\n"
   ]
  },
  {
   "cell_type": "code",
   "execution_count": 20,
   "id": "4ff14ccd",
   "metadata": {},
   "outputs": [
    {
     "name": "stdout",
     "output_type": "stream",
     "text": [
      "enter your weight in kg 76\n",
      "enter your height in metres 1.72\n",
      "your bmi is   25.689561925365066\n",
      "you are overwieght cut the junkfood and do regular workout\n"
     ]
    }
   ],
   "source": [
    "#. Write a program that calculates the BMI (Body Mass Index) and provides health recommendations based \n",
    "on the user's input\n",
    "w=float(input(\"enter your weight in kg \"))\n",
    "h=float(input(\"enter your height in metres \"))\n",
    "bmi=w/(h**2)\n",
    "print(\"your bmi is  \",bmi)\n",
    "if bmi<18.5:\n",
    "    print(\"You are underweight have some protien and more carbs based diet increase your calorie\")\n",
    "elif 18.5<bmi<24.5:\n",
    "    print(\"You are Fit maintain your diet\")\n",
    "elif 25.0<bmi<29.9:\n",
    "    print(\"you are overwieght cut the junkfood and do regular workout\")\n",
    "elif 25.0<bmi<29.9:\n",
    "    print(\"you are obese immediately plan your diet otherwise you will have serious health issues\")\n"
   ]
  },
  {
   "cell_type": "code",
   "execution_count": 3,
   "id": "b39e6c51",
   "metadata": {},
   "outputs": [
    {
     "name": "stdout",
     "output_type": "stream",
     "text": [
      "Insert coefficient a: 1\n",
      "Insert coefficient b: 8\n",
      "Insert coefficient c: 1\n",
      "the roots are -0.12701665379258298 and -7.872983346207417\n"
     ]
    }
   ],
   "source": [
    " #Build a program that determines the roots of a quartic equation using numerical methods.\n",
    "import math\n",
    "a=float(input(\"Insert coefficient a: \"))\n",
    "b=float(input(\"Insert coefficient b: \"))\n",
    "c=float(input(\"Insert coefficient c: \"))\n",
    "d=((b**2) - (4*a*c))\n",
    "if d>0:\n",
    "    root1 = (-b + math.sqrt(d)) / (2*a)\n",
    "    root2 = (-b - math.sqrt(d)) / (2*a)\n",
    "    print(f\"the roots are {root1} and {root2}\")\n",
    "elif d== 0:\n",
    "    root = -b / (2*a)\n",
    "    print(f\"the root of the equation is {root}\")\n",
    "else:\n",
    "    print(\"The equation has no real roots\")\n",
    "        \n"
   ]
  },
  {
   "cell_type": "code",
   "execution_count": 5,
   "id": "a95627fd",
   "metadata": {},
   "outputs": [
    {
     "name": "stdout",
     "output_type": "stream",
     "text": [
      "Enter the first number: 12\n",
      "Enter the second number: 14\n",
      "Enter the third number: 9\n",
      "The sorted numbers in ascending order are: 9.0 12.0 14.0\n"
     ]
    }
   ],
   "source": [
    "#Create a program that sorts three numbers in ascending order using conditional statements\n",
    "num1 = float(input(\"Enter the first number: \"))\n",
    "num2 = float(input(\"Enter the second number: \"))\n",
    "num3 = float(input(\"Enter the third number: \"))\n",
    "\n",
    "if num1 > num2:\n",
    "    num1, num2 = num2, num1\n",
    "if num1 > num3:\n",
    "    num1, num3 = num3, num1\n",
    "if num2 > num3:\n",
    "    num2, num3 = num3, num2\n",
    "print(\"The sorted numbers in ascending order are:\", num1, num2, num3)"
   ]
  },
  {
   "cell_type": "code",
   "execution_count": 6,
   "id": "04c343a5",
   "metadata": {},
   "outputs": [
    {
     "name": "stdout",
     "output_type": "stream",
     "text": [
      "Enter the coefficient of x: 15\n",
      "Enter the coefficient of y: 2\n",
      "Enter the constant term: 4\n",
      "The solution for x is -0.26666666666666666.\n"
     ]
    }
   ],
   "source": [
    "#Build a program that solves a linear equation  for x, considering different cases\n",
    "a = float(input(\"Enter the coefficient of x: \"))\n",
    "b = float(input(\"Enter the coefficient of y: \"))\n",
    "c = float(input(\"Enter the constant term: \"))\n",
    "if a == 0 and b == 0:\n",
    "    if c == 0:\n",
    "        print(\"The equation is true for all x and y.\")\n",
    "    else:\n",
    "        print(\"The equation has no solutions.\")\n",
    "elif a == 0:\n",
    "    if b == 0:\n",
    "        print(\"The equation is true for all x.\")\n",
    "    else:\n",
    "        print(\"The equation has no solutions.\")\n",
    "else:\n",
    "    if b == 0:\n",
    "        if a == 0:\n",
    "            print(\"The equation is true for all x.\")\n",
    "        else:\n",
    "            print(\"The equation has no solutions.\")\n",
    "    else:\n",
    "        x = -c / a\n",
    "        print(f\"The solution for x is {x}.\")"
   ]
  },
  {
   "cell_type": "code",
   "execution_count": null,
   "id": "7025b082",
   "metadata": {},
   "outputs": [],
   "source": []
  }
 ],
 "metadata": {
  "kernelspec": {
   "display_name": "Python 3 (ipykernel)",
   "language": "python",
   "name": "python3"
  },
  "language_info": {
   "codemirror_mode": {
    "name": "ipython",
    "version": 3
   },
   "file_extension": ".py",
   "mimetype": "text/x-python",
   "name": "python",
   "nbconvert_exporter": "python",
   "pygments_lexer": "ipython3",
   "version": "3.10.9"
  }
 },
 "nbformat": 4,
 "nbformat_minor": 5
}
